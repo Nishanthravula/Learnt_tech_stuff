{
  "nbformat": 4,
  "nbformat_minor": 0,
  "metadata": {
    "colab": {
      "provenance": []
    },
    "kernelspec": {
      "name": "python3",
      "display_name": "Python 3"
    },
    "language_info": {
      "name": "python"
    }
  },
  "cells": [
    {
      "cell_type": "code",
      "source": [],
      "metadata": {
        "id": "I3BW31TaH8L6"
      },
      "execution_count": 5,
      "outputs": []
    },
    {
      "cell_type": "markdown",
      "source": [
        "# **Autoencoder**"
      ],
      "metadata": {
        "id": "m5-1cPHRrsd2"
      }
    },
    {
      "cell_type": "code",
      "source": [
        "from keras.datasets import cifar10 # subroutines for fetching the CIFAR-10 dataset\n",
        "from keras.models import Model # basic class for specifying and training a neural network\n",
        "from keras.layers import Input, Convolution2D, MaxPooling2D, Dense, Dropout, Flatten\n",
        "from keras.utils import np_utils # utilities for one-hot encoding of ground truth values\n",
        "import numpy as np\n",
        "import pandas as pd\n",
        "from keras.callbacks import EarlyStopping\n",
        "from keras.datasets import cifar10\n",
        "from keras.models import Sequential\n",
        "from keras.layers.core import Dense, Dropout, Flatten\n",
        "from keras.layers.convolutional import Conv2D\n",
        "from keras.optimizers import Adam\n",
        "from keras.layers.pooling import MaxPooling2D\n",
        "from keras.utils import to_categorical\n",
        "import os\n",
        "\n",
        "#from __future__ import print_function"
      ],
      "metadata": {
        "id": "vxK167gfrwiH"
      },
      "execution_count": 6,
      "outputs": []
    },
    {
      "cell_type": "code",
      "source": [
        "from keras.datasets import mnist\n",
        "import numpy as np\n",
        "(x_train, _), (x_test, _) = mnist.load_data()"
      ],
      "metadata": {
        "id": "ErsHU41cr3S7"
      },
      "execution_count": 7,
      "outputs": []
    },
    {
      "cell_type": "code",
      "source": [
        "x_train = x_train.astype('float32') / 255.\n",
        "x_test = x_test.astype('float32') / 255.\n",
        "x_train = x_train.reshape((len(x_train), np.prod(x_train.shape[1:])))\n",
        "x_test = x_test.reshape((len(x_test), np.prod(x_test.shape[1:])))\n",
        "print(x_train.shape)\n",
        "print(x_test.shape)"
      ],
      "metadata": {
        "colab": {
          "base_uri": "https://localhost:8080/"
        },
        "id": "Upa3_mHYr51b",
        "outputId": "ef323813-1d17-4d8a-89b6-72305d1b1a21"
      },
      "execution_count": 8,
      "outputs": [
        {
          "output_type": "stream",
          "name": "stdout",
          "text": [
            "(60000, 784)\n",
            "(10000, 784)\n"
          ]
        }
      ]
    },
    {
      "cell_type": "code",
      "source": [
        "# plt.imshow(x_train[0].reshape(28,28))"
      ],
      "metadata": {
        "id": "qxpLT-dXFC0X"
      },
      "execution_count": 9,
      "outputs": []
    },
    {
      "cell_type": "code",
      "source": [
        "from keras.layers import Input, Dense\n",
        "from keras.models import Model\n",
        "encoding_dim = 32 # 32 floats -> compression of factor 24.5, assuming the input is 784 floats (28X28 digits)\n",
        "input_img = Input(shape=(784,))\n",
        "encoded = Dense(encoding_dim, activation='relu')(input_img)\n",
        "decoded = Dense(784, activation='sigmoid')(encoded)\n",
        "# this model maps an input to its reconstruction\n",
        "autoencoder = Model(input_img, decoded)\n",
        "autoencoder.summary()"
      ],
      "metadata": {
        "colab": {
          "base_uri": "https://localhost:8080/"
        },
        "id": "ggHz12ZVr9Xa",
        "outputId": "2fdaf59a-07da-4051-e727-be6923a28e80"
      },
      "execution_count": 10,
      "outputs": [
        {
          "output_type": "stream",
          "name": "stdout",
          "text": [
            "Model: \"model\"\n",
            "_________________________________________________________________\n",
            " Layer (type)                Output Shape              Param #   \n",
            "=================================================================\n",
            " input_1 (InputLayer)        [(None, 784)]             0         \n",
            "                                                                 \n",
            " dense (Dense)               (None, 32)                25120     \n",
            "                                                                 \n",
            " dense_1 (Dense)             (None, 784)               25872     \n",
            "                                                                 \n",
            "=================================================================\n",
            "Total params: 50,992\n",
            "Trainable params: 50,992\n",
            "Non-trainable params: 0\n",
            "_________________________________________________________________\n"
          ]
        }
      ]
    },
    {
      "cell_type": "code",
      "source": [
        "autoencoder.compile(optimizer='adam', loss='binary_crossentropy')"
      ],
      "metadata": {
        "id": "GAxxg-KKsIMC"
      },
      "execution_count": 11,
      "outputs": []
    },
    {
      "cell_type": "code",
      "source": [
        "autoencoder.fit(x_train, x_train,\n",
        " epochs=20,\n",
        " batch_size=256,\n",
        " shuffle=True,\n",
        " validation_data=(x_test, x_test))"
      ],
      "metadata": {
        "colab": {
          "base_uri": "https://localhost:8080/"
        },
        "id": "diubCpRzsiny",
        "outputId": "db779f5b-cc5d-461a-f761-4bde806a29bf"
      },
      "execution_count": 12,
      "outputs": [
        {
          "output_type": "stream",
          "name": "stdout",
          "text": [
            "Epoch 1/20\n",
            "235/235 [==============================] - 4s 14ms/step - loss: 0.2784 - val_loss: 0.1930\n",
            "Epoch 2/20\n",
            "235/235 [==============================] - 3s 12ms/step - loss: 0.1738 - val_loss: 0.1558\n",
            "Epoch 3/20\n",
            "235/235 [==============================] - 3s 13ms/step - loss: 0.1459 - val_loss: 0.1347\n",
            "Epoch 4/20\n",
            "235/235 [==============================] - 3s 13ms/step - loss: 0.1296 - val_loss: 0.1224\n",
            "Epoch 5/20\n",
            "235/235 [==============================] - 3s 13ms/step - loss: 0.1194 - val_loss: 0.1141\n",
            "Epoch 6/20\n",
            "235/235 [==============================] - 3s 13ms/step - loss: 0.1124 - val_loss: 0.1083\n",
            "Epoch 7/20\n",
            "235/235 [==============================] - 3s 13ms/step - loss: 0.1072 - val_loss: 0.1036\n",
            "Epoch 8/20\n",
            "235/235 [==============================] - 3s 13ms/step - loss: 0.1033 - val_loss: 0.1006\n",
            "Epoch 9/20\n",
            "235/235 [==============================] - 3s 13ms/step - loss: 0.1003 - val_loss: 0.0978\n",
            "Epoch 10/20\n",
            "235/235 [==============================] - 3s 13ms/step - loss: 0.0982 - val_loss: 0.0961\n",
            "Epoch 11/20\n",
            "235/235 [==============================] - 3s 13ms/step - loss: 0.0968 - val_loss: 0.0950\n",
            "Epoch 12/20\n",
            "235/235 [==============================] - 3s 13ms/step - loss: 0.0959 - val_loss: 0.0943\n",
            "Epoch 13/20\n",
            "235/235 [==============================] - 3s 13ms/step - loss: 0.0952 - val_loss: 0.0937\n",
            "Epoch 14/20\n",
            "235/235 [==============================] - 3s 12ms/step - loss: 0.0947 - val_loss: 0.0933\n",
            "Epoch 15/20\n",
            "235/235 [==============================] - 3s 12ms/step - loss: 0.0944 - val_loss: 0.0929\n",
            "Epoch 16/20\n",
            "235/235 [==============================] - 3s 13ms/step - loss: 0.0942 - val_loss: 0.0928\n",
            "Epoch 17/20\n",
            "235/235 [==============================] - 5s 23ms/step - loss: 0.0940 - val_loss: 0.0926\n",
            "Epoch 18/20\n",
            "235/235 [==============================] - 3s 13ms/step - loss: 0.0938 - val_loss: 0.0925\n",
            "Epoch 19/20\n",
            "235/235 [==============================] - 3s 13ms/step - loss: 0.0937 - val_loss: 0.0924\n",
            "Epoch 20/20\n",
            "235/235 [==============================] - 3s 13ms/step - loss: 0.0936 - val_loss: 0.0923\n"
          ]
        },
        {
          "output_type": "execute_result",
          "data": {
            "text/plain": [
              "<keras.callbacks.History at 0x7f5312a9b910>"
            ]
          },
          "metadata": {},
          "execution_count": 12
        }
      ]
    },
    {
      "cell_type": "code",
      "source": [
        "# encode and decode some digits\n",
        "# note that we take them from the *test* set\n",
        "encoded_imgs = autoencoder.predict(x_test)\n",
        "decoded_imgs = autoencoder.predict(encoded_imgs)\n",
        "encoded_imgs[0].shape"
      ],
      "metadata": {
        "colab": {
          "base_uri": "https://localhost:8080/"
        },
        "id": "jtOhrtEGsmb6",
        "outputId": "818be32f-a330-4088-ba31-720204fc9342"
      },
      "execution_count": 13,
      "outputs": [
        {
          "output_type": "stream",
          "name": "stdout",
          "text": [
            "313/313 [==============================] - 1s 2ms/step\n",
            "313/313 [==============================] - 1s 2ms/step\n"
          ]
        },
        {
          "output_type": "execute_result",
          "data": {
            "text/plain": [
              "(784,)"
            ]
          },
          "metadata": {},
          "execution_count": 13
        }
      ]
    },
    {
      "cell_type": "code",
      "source": [
        "decoded_imgs[0].shape"
      ],
      "metadata": {
        "colab": {
          "base_uri": "https://localhost:8080/"
        },
        "id": "m6Au9dlutEQO",
        "outputId": "0d4b0c21-4242-4a5f-bbf9-c6622c9c6659"
      },
      "execution_count": 14,
      "outputs": [
        {
          "output_type": "execute_result",
          "data": {
            "text/plain": [
              "(784,)"
            ]
          },
          "metadata": {},
          "execution_count": 14
        }
      ]
    },
    {
      "cell_type": "code",
      "source": [
        "# use Matplotlib\n",
        "import matplotlib.pyplot as plt\n",
        "%matplotlib inline\n",
        "n = 10 # how many digits we will display\n",
        "plt.figure(figsize=(20, 4))\n",
        "for i in range(n):\n",
        " # display original\n",
        " ax = plt.subplot(2, n, i + 1)\n",
        " plt.imshow(x_test[i].reshape(28, 28))\n",
        " plt.gray()\n",
        " ax.get_xaxis().set_visible(False)\n",
        " ax.get_yaxis().set_visible(False)\n",
        "# display reconstruction\n",
        " ax = plt.subplot(2, n, i + 1 + n)\n",
        " plt.imshow(decoded_imgs[i].reshape(28, 28))\n",
        " plt.gray()\n",
        " ax.get_xaxis().set_visible(False)\n",
        " ax.get_yaxis().set_visible(False)\n",
        "plt.show()"
      ],
      "metadata": {
        "colab": {
          "base_uri": "https://localhost:8080/",
          "height": 248
        },
        "id": "7C4rNS6ytHRw",
        "outputId": "d658b8b0-36b9-4adf-8fac-b1ee126049bb"
      },
      "execution_count": 15,
      "outputs": [
        {
          "output_type": "display_data",
          "data": {
            "text/plain": [
              "<Figure size 1440x288 with 20 Axes>"
            ],
            "image/png": "[encoded data removed]"
          },
          "metadata": {
            "needs_background": "light"
          }
        }
      ]
    },
    {
      "cell_type": "code",
      "source": [
        "noise_factor = 0.7\n",
        "x_train_noisy = x_train + noise_factor * np.random.normal(loc=0.0, scale=1.0, size=x_train.shape) \n",
        "x_test_noisy = x_test + noise_factor * np.random.normal(loc=0.0, scale=1.0, size=x_test.shape) \n",
        "x_train_noisy = np.clip(x_train_noisy, 0., 1.)\n",
        "x_test_noisy = np.clip(x_test_noisy, 0., 1.)\n",
        "\n",
        "plt.figure(figsize=(20, 2))\n",
        "for i in range(1, 5 + 1):\n",
        "    ax = plt.subplot(1, 5, i)\n",
        "    plt.imshow(x_test_noisy[i].reshape(28, 28))\n",
        "    plt.gray()\n",
        "    ax.get_xaxis().set_visible(False)\n",
        "    ax.get_yaxis().set_visible(False)\n",
        "plt.show()"
      ],
      "metadata": {
        "colab": {
          "base_uri": "https://localhost:8080/",
          "height": 143
        },
        "id": "vVz2ix9vtJvC",
        "outputId": "e76b793a-f65d-4e94-a672-30be5f40ef0a"
      },
      "execution_count": 16,
      "outputs": [
        {
          "output_type": "display_data",
          "data": {
            "text/plain": [
              "<Figure size 1440x144 with 5 Axes>"
            ],
            "image/png": "[encoded data removed]"
          },
          "metadata": {
            "needs_background": "light"
          }
        }
      ]
    },
    {
      "cell_type": "code",
      "source": [
        "# from keras.layers import Dense,Conv2D,MaxPooling2D,UpSampling2D\n",
        "# from tensorflow.keras import Model\n",
        "# pred = model.predict(x_test_noisy)\n",
        "# plt.figure(figsize=(20, 4))\n",
        "# for i in range(5):\n",
        "#     # Display original\n",
        "#     ax = plt.subplot(2, 5, i + 1)\n",
        "#     plt.imshow(x_test_noisy[i].reshape(28, 28))\n",
        "#     plt.gray()\n",
        "#     ax.get_xaxis().set_visible(False)\n",
        "#     ax.get_yaxis().set_visible(False)\n",
        "#     # Display reconstruction\n",
        "#     ax = plt.subplot(2, 5, i + 1 + 5)\n",
        "#     plt.imshow(pred[i].reshape(28, 28))\n",
        "#     plt.gray()\n",
        "#     ax.get_xaxis().set_visible(False)\n",
        "#     ax.get_yaxis().set_visible(False)\n",
        "# plt.show()"
      ],
      "metadata": {
        "id": "WWBhseKjF5kr"
      },
      "execution_count": 17,
      "outputs": []
    },
    {
      "cell_type": "code",
      "source": [
        "\n",
        "from keras.layers import Dense,Conv2D,MaxPooling2D,UpSampling2D\n",
        "from keras import Input, Model\n",
        "from keras.datasets import mnist\n",
        "import numpy as np\n",
        "import matplotlib.pyplot as plt"
      ],
      "metadata": {
        "id": "xqMxA9YGIEtZ"
      },
      "execution_count": 18,
      "outputs": []
    },
    {
      "cell_type": "code",
      "source": [
        "encoding_dim = 15 \n",
        "input_img = Input(shape=(784,))\n",
        "# encoded representation of input\n",
        "encoded = Dense(encoding_dim, activation='relu')(input_img)\n",
        "# decoded representation of code \n",
        "decoded = Dense(784, activation='sigmoid')(encoded)\n",
        "# Model which take input image and shows decoded images\n",
        "autoencoder = Model(input_img, decoded)"
      ],
      "metadata": {
        "id": "rDTBSeO_IGAq"
      },
      "execution_count": 19,
      "outputs": []
    },
    {
      "cell_type": "code",
      "source": [
        "# This model shows encoded images\n",
        "encoder = Model(input_img, encoded)\n",
        "# Creating a decoder model\n",
        "encoded_input = Input(shape=(encoding_dim,))\n",
        "# last layer of the autoencoder model\n",
        "decoder_layer = autoencoder.layers[-1]\n",
        "# decoder model\n",
        "decoder = Model(encoded_input, decoder_layer(encoded_input))"
      ],
      "metadata": {
        "id": "Jmv-yf5cIKBW"
      },
      "execution_count": 20,
      "outputs": []
    },
    {
      "cell_type": "code",
      "source": [
        "autoencoder.compile(optimizer='adam', loss='binary_crossentropy')"
      ],
      "metadata": {
        "id": "hGH_edEQIMGa"
      },
      "execution_count": 21,
      "outputs": []
    },
    {
      "cell_type": "code",
      "source": [
        "(x_train, y_train), (x_test, y_test) = mnist.load_data()\n",
        "x_train = x_train.astype('float32') / 255.\n",
        "x_test = x_test.astype('float32') / 255.\n",
        "x_train = x_train.reshape((len(x_train), np.prod(x_train.shape[1:])))\n",
        "x_test = x_test.reshape((len(x_test), np.prod(x_test.shape[1:])))\n",
        "print(x_train.shape)\n",
        "print(x_test.shape)"
      ],
      "metadata": {
        "colab": {
          "base_uri": "https://localhost:8080/"
        },
        "id": "Tkok6PU3INsa",
        "outputId": "b8b86fd4-5c7f-44ad-a473-49168c5bc5be"
      },
      "execution_count": 22,
      "outputs": [
        {
          "output_type": "stream",
          "name": "stdout",
          "text": [
            "(60000, 784)\n",
            "(10000, 784)\n"
          ]
        }
      ]
    },
    {
      "cell_type": "code",
      "source": [
        "plt.imshow(x_train[0].reshape(28,28))"
      ],
      "metadata": {
        "colab": {
          "base_uri": "https://localhost:8080/",
          "height": 282
        },
        "id": "Oj2sufMkIPjT",
        "outputId": "2ece7a4b-c1f4-4e05-c7b6-d2a434433b50"
      },
      "execution_count": 23,
      "outputs": [
        {
          "output_type": "execute_result",
          "data": {
            "text/plain": [
              "<matplotlib.image.AxesImage at 0x7f530e84a640>"
            ]
          },
          "metadata": {},
          "execution_count": 23
        },
        {
          "output_type": "display_data",
          "data": {
            "text/plain": [
              "<Figure size 432x288 with 1 Axes>"
            ],
            "image/png": "[encoded data removed]"
          },
          "metadata": {
            "needs_background": "light"
          }
        }
      ]
    },
    {
      "cell_type": "code",
      "source": [
        "autoencoder.fit(x_train, x_train,\n",
        "                epochs=15,\n",
        "                batch_size=256,\n",
        "                validation_data=(x_test, x_test))"
      ],
      "metadata": {
        "colab": {
          "base_uri": "https://localhost:8080/"
        },
        "id": "DFNnVtHzIRSb",
        "outputId": "4a433924-9c72-417e-fd0a-6165ddb90654"
      },
      "execution_count": 24,
      "outputs": [
        {
          "output_type": "stream",
          "name": "stdout",
          "text": [
            "Epoch 1/15\n",
            "235/235 [==============================] - 3s 12ms/step - loss: 0.3119 - val_loss: 0.2253\n",
            "Epoch 2/15\n",
            "235/235 [==============================] - 4s 15ms/step - loss: 0.2011 - val_loss: 0.1816\n",
            "Epoch 3/15\n",
            "235/235 [==============================] - 3s 14ms/step - loss: 0.1735 - val_loss: 0.1638\n",
            "Epoch 4/15\n",
            "235/235 [==============================] - 3s 12ms/step - loss: 0.1597 - val_loss: 0.1540\n",
            "Epoch 5/15\n",
            "235/235 [==============================] - 3s 12ms/step - loss: 0.1521 - val_loss: 0.1482\n",
            "Epoch 6/15\n",
            "235/235 [==============================] - 3s 12ms/step - loss: 0.1475 - val_loss: 0.1447\n",
            "Epoch 7/15\n",
            "235/235 [==============================] - 3s 12ms/step - loss: 0.1447 - val_loss: 0.1424\n",
            "Epoch 8/15\n",
            "235/235 [==============================] - 3s 12ms/step - loss: 0.1427 - val_loss: 0.1407\n",
            "Epoch 9/15\n",
            "235/235 [==============================] - 3s 12ms/step - loss: 0.1410 - val_loss: 0.1389\n",
            "Epoch 10/15\n",
            "235/235 [==============================] - 3s 12ms/step - loss: 0.1395 - val_loss: 0.1376\n",
            "Epoch 11/15\n",
            "235/235 [==============================] - 3s 12ms/step - loss: 0.1381 - val_loss: 0.1363\n",
            "Epoch 12/15\n",
            "235/235 [==============================] - 3s 12ms/step - loss: 0.1370 - val_loss: 0.1351\n",
            "Epoch 13/15\n",
            "235/235 [==============================] - 3s 12ms/step - loss: 0.1360 - val_loss: 0.1343\n",
            "Epoch 14/15\n",
            "235/235 [==============================] - 3s 12ms/step - loss: 0.1353 - val_loss: 0.1337\n",
            "Epoch 15/15\n",
            "235/235 [==============================] - 3s 12ms/step - loss: 0.1347 - val_loss: 0.1331\n"
          ]
        },
        {
          "output_type": "execute_result",
          "data": {
            "text/plain": [
              "<keras.callbacks.History at 0x7f530e86bee0>"
            ]
          },
          "metadata": {},
          "execution_count": 24
        }
      ]
    },
    {
      "cell_type": "code",
      "source": [
        "encoded_img = encoder.predict(x_test)\n",
        "decoded_img = decoder.predict(encoded_img)\n",
        "plt.figure(figsize=(20, 4))\n",
        "for i in range(5):\n",
        "    # Display original\n",
        "    ax = plt.subplot(2, 5, i + 1)\n",
        "    plt.imshow(x_test[i].reshape(28, 28))\n",
        "    plt.gray()\n",
        "    ax.get_xaxis().set_visible(False)\n",
        "    ax.get_yaxis().set_visible(False)\n",
        "    # Display reconstruction\n",
        "    ax = plt.subplot(2, 5, i + 1 + 5)\n",
        "    plt.imshow(decoded_img[i].reshape(28, 28))\n",
        "    plt.gray()\n",
        "    ax.get_xaxis().set_visible(False)\n",
        "    ax.get_yaxis().set_visible(False)\n",
        "plt.show()"
      ],
      "metadata": {
        "colab": {
          "base_uri": "https://localhost:8080/",
          "height": 287
        },
        "id": "YBXLP58oITDb",
        "outputId": "b0bc2aab-5a20-412f-d08b-c457dc4c242a"
      },
      "execution_count": 25,
      "outputs": [
        {
          "output_type": "stream",
          "name": "stdout",
          "text": [
            "313/313 [==============================] - 0s 1ms/step\n",
            "313/313 [==============================] - 1s 1ms/step\n"
          ]
        },
        {
          "output_type": "display_data",
          "data": {
            "text/plain": [
              "<Figure size 1440x288 with 10 Axes>"
            ],
            "image/png": "[encoded data removed]"
          },
          "metadata": {
            "needs_background": "light"
          }
        }
      ]
    },
    {
      "cell_type": "code",
      "source": [
        "model = Sequential()\n",
        "# encoder network\n",
        "model.add(Conv2D(30, 3, activation= 'relu', padding='same', input_shape = (28,28,1)))\n",
        "model.add(MaxPooling2D(2, padding= 'same'))\n",
        "model.add(Conv2D(15, 3, activation= 'relu', padding='same'))\n",
        "model.add(MaxPooling2D(2, padding= 'same'))\n",
        "#decoder network\n",
        "model.add(Conv2D(15, 3, activation= 'relu', padding='same'))\n",
        "model.add(UpSampling2D(2))\n",
        "model.add(Conv2D(30, 3, activation= 'relu', padding='same'))\n",
        "model.add(UpSampling2D(2))\n",
        "model.add(Conv2D(1,3,activation='sigmoid', padding= 'same')) # output layer\n",
        "model.compile(optimizer= 'adam', loss = 'binary_crossentropy')\n",
        "model.summary()"
      ],
      "metadata": {
        "colab": {
          "base_uri": "https://localhost:8080/"
        },
        "id": "DEWbzq6lIh_f",
        "outputId": "899a35cd-5423-4eb6-e38f-ec5349d37d5e"
      },
      "execution_count": 26,
      "outputs": [
        {
          "output_type": "stream",
          "name": "stdout",
          "text": [
            "Model: \"sequential\"\n",
            "_________________________________________________________________\n",
            " Layer (type)                Output Shape              Param #   \n",
            "=================================================================\n",
            " conv2d (Conv2D)             (None, 28, 28, 30)        300       \n",
            "                                                                 \n",
            " max_pooling2d (MaxPooling2D  (None, 14, 14, 30)       0         \n",
            " )                                                               \n",
            "                                                                 \n",
            " conv2d_1 (Conv2D)           (None, 14, 14, 15)        4065      \n",
            "                                                                 \n",
            " max_pooling2d_1 (MaxPooling  (None, 7, 7, 15)         0         \n",
            " 2D)                                                             \n",
            "                                                                 \n",
            " conv2d_2 (Conv2D)           (None, 7, 7, 15)          2040      \n",
            "                                                                 \n",
            " up_sampling2d (UpSampling2D  (None, 14, 14, 15)       0         \n",
            " )                                                               \n",
            "                                                                 \n",
            " conv2d_3 (Conv2D)           (None, 14, 14, 30)        4080      \n",
            "                                                                 \n",
            " up_sampling2d_1 (UpSampling  (None, 28, 28, 30)       0         \n",
            " 2D)                                                             \n",
            "                                                                 \n",
            " conv2d_4 (Conv2D)           (None, 28, 28, 1)         271       \n",
            "                                                                 \n",
            "=================================================================\n",
            "Total params: 10,756\n",
            "Trainable params: 10,756\n",
            "Non-trainable params: 0\n",
            "_________________________________________________________________\n"
          ]
        }
      ]
    },
    {
      "cell_type": "code",
      "source": [
        "(x_train, _), (x_test, _) = mnist.load_data()\n",
        "x_train = x_train.astype('float32') / 255.\n",
        "x_test = x_test.astype('float32') / 255.\n",
        "x_train = np.reshape(x_train, (len(x_train), 28, 28, 1))\n",
        "x_test = np.reshape(x_test, (len(x_test), 28, 28, 1))\n",
        "model.fit(x_train, x_train,\n",
        "                epochs=15,\n",
        "                batch_size=128,\n",
        "                validation_data=(x_test, x_test))"
      ],
      "metadata": {
        "colab": {
          "base_uri": "https://localhost:8080/"
        },
        "id": "FiWMj8tCIlLi",
        "outputId": "25f9f673-8374-4c4f-8395-6f17c024e242"
      },
      "execution_count": 27,
      "outputs": [
        {
          "output_type": "stream",
          "name": "stdout",
          "text": [
            "Epoch 1/15\n",
            "469/469 [==============================] - 154s 326ms/step - loss: 0.1278 - val_loss: 0.0792\n",
            "Epoch 2/15\n",
            "469/469 [==============================] - 154s 328ms/step - loss: 0.0772 - val_loss: 0.0744\n",
            "Epoch 3/15\n",
            "469/469 [==============================] - 153s 326ms/step - loss: 0.0742 - val_loss: 0.0726\n",
            "Epoch 4/15\n",
            "469/469 [==============================] - 153s 327ms/step - loss: 0.0727 - val_loss: 0.0715\n",
            "Epoch 5/15\n",
            "469/469 [==============================] - 162s 345ms/step - loss: 0.0718 - val_loss: 0.0707\n",
            "Epoch 6/15\n",
            "469/469 [==============================] - 156s 333ms/step - loss: 0.0710 - val_loss: 0.0700\n",
            "Epoch 7/15\n",
            "469/469 [==============================] - 156s 332ms/step - loss: 0.0704 - val_loss: 0.0695\n",
            "Epoch 8/15\n",
            "469/469 [==============================] - 155s 330ms/step - loss: 0.0699 - val_loss: 0.0693\n",
            "Epoch 9/15\n",
            "469/469 [==============================] - 155s 331ms/step - loss: 0.0695 - val_loss: 0.0687\n",
            "Epoch 10/15\n",
            "469/469 [==============================] - 154s 328ms/step - loss: 0.0691 - val_loss: 0.0684\n",
            "Epoch 11/15\n",
            "469/469 [==============================] - 153s 327ms/step - loss: 0.0689 - val_loss: 0.0682\n",
            "Epoch 12/15\n",
            "469/469 [==============================] - 153s 326ms/step - loss: 0.0686 - val_loss: 0.0680\n",
            "Epoch 13/15\n",
            "469/469 [==============================] - 153s 327ms/step - loss: 0.0684 - val_loss: 0.0678\n",
            "Epoch 14/15\n",
            "469/469 [==============================] - 153s 327ms/step - loss: 0.0682 - val_loss: 0.0675\n",
            "Epoch 15/15\n",
            "469/469 [==============================] - 153s 327ms/step - loss: 0.0680 - val_loss: 0.0674\n"
          ]
        },
        {
          "output_type": "execute_result",
          "data": {
            "text/plain": [
              "<keras.callbacks.History at 0x7f530fe09c70>"
            ]
          },
          "metadata": {},
          "execution_count": 27
        }
      ]
    },
    {
      "cell_type": "code",
      "source": [
        "pred = model.predict(x_test)\n",
        "plt.figure(figsize=(20, 4))\n",
        "for i in range(5):\n",
        "    # Display original\n",
        "    ax = plt.subplot(2, 5, i + 1)\n",
        "    plt.imshow(x_test[i].reshape(28, 28))\n",
        "    plt.gray()\n",
        "    ax.get_xaxis().set_visible(False)\n",
        "    ax.get_yaxis().set_visible(False)\n",
        "    # Display reconstruction\n",
        "    ax = plt.subplot(2, 5, i + 1 + 5)\n",
        "    plt.imshow(pred[i].reshape(28, 28))\n",
        "    plt.gray()\n",
        "    ax.get_xaxis().set_visible(False)\n",
        "    ax.get_yaxis().set_visible(False)\n",
        "plt.show()"
      ],
      "metadata": {
        "colab": {
          "base_uri": "https://localhost:8080/",
          "height": 269
        },
        "id": "RG2zQTAiIn-G",
        "outputId": "47e3a5c1-cb4a-4a75-ab00-45048088d2cb"
      },
      "execution_count": 28,
      "outputs": [
        {
          "output_type": "stream",
          "name": "stdout",
          "text": [
            "313/313 [==============================] - 7s 24ms/step\n"
          ]
        },
        {
          "output_type": "display_data",
          "data": {
            "text/plain": [
              "<Figure size 1440x288 with 10 Axes>"
            ],
            "image/png": "[encoded data removed]"
          },
          "metadata": {
            "needs_background": "light"
          }
        }
      ]
    },
    {
      "cell_type": "code",
      "source": [
        "noise_factor = 0.7\n",
        "x_train_noisy = x_train + noise_factor * np.random.normal(loc=0.0, scale=1.0, size=x_train.shape) \n",
        "x_test_noisy = x_test + noise_factor * np.random.normal(loc=0.0, scale=1.0, size=x_test.shape) \n",
        "x_train_noisy = np.clip(x_train_noisy, 0., 1.)\n",
        "x_test_noisy = np.clip(x_test_noisy, 0., 1.)\n",
        "plt.figure(figsize=(20, 2))\n",
        "for i in range(1, 5 + 1):\n",
        "    ax = plt.subplot(1, 5, i)\n",
        "    plt.imshow(x_test_noisy[i].reshape(28, 28))\n",
        "    plt.gray()\n",
        "    ax.get_xaxis().set_visible(False)\n",
        "    ax.get_yaxis().set_visible(False)\n",
        "plt.show()"
      ],
      "metadata": {
        "colab": {
          "base_uri": "https://localhost:8080/",
          "height": 143
        },
        "id": "6UUTamYpIsIS",
        "outputId": "66cf2339-1728-4e6f-e67e-f468000e12ba"
      },
      "execution_count": 29,
      "outputs": [
        {
          "output_type": "display_data",
          "data": {
            "text/plain": [
              "<Figure size 1440x144 with 5 Axes>"
            ],
            "image/png": "[encoded data removed]"
          },
          "metadata": {
            "needs_background": "light"
          }
        }
      ]
    },
    {
      "cell_type": "code",
      "source": [
        "model = Sequential()\n",
        "# encoder network\n",
        "model.add(Conv2D(35, 3, activation= 'relu', padding='same', input_shape = (28,28,1)))\n",
        "model.add(MaxPooling2D(2, padding= 'same'))\n",
        "model.add(Conv2D(25, 3, activation= 'relu', padding='same'))\n",
        "model.add(MaxPooling2D(2, padding= 'same'))\n",
        "#decoder network\n",
        "model.add(Conv2D(25, 3, activation= 'relu', padding='same'))\n",
        "model.add(UpSampling2D(2))\n",
        "model.add(Conv2D(35, 3, activation= 'relu', padding='same'))\n",
        "model.add(UpSampling2D(2))\n",
        "model.add(Conv2D(1,3,activation='sigmoid', padding= 'same')) # output layer\n",
        "model.compile(optimizer= 'adam', loss = 'binary_crossentropy')\n",
        "model.fit(x_train_noisy, x_train,epochs=15,batch_size=128,validation_data=(x_test_noisy, x_test))\n",
        "model = Sequential()\n",
        "# encoder network\n",
        "model.add(Conv2D(35, 3, activation= 'relu', padding='same', input_shape = (28,28,1)))\n",
        "model.add(MaxPooling2D(2, padding= 'same'))\n",
        "model.add(Conv2D(25, 3, activation= 'relu', padding='same'))\n",
        "model.add(MaxPooling2D(2, padding= 'same'))\n",
        "#decoder network\n",
        "model.add(Conv2D(25, 3, activation= 'relu', padding='same'))\n",
        "model.add(UpSampling2D(2))\n",
        "model.add(Conv2D(35, 3, activation= 'relu', padding='same'))\n",
        "model.add(UpSampling2D(2))\n",
        "model.add(Conv2D(1,3,activation='sigmoid', padding= 'same')) # output layer\n",
        "model.compile(optimizer= 'adam', loss = 'binary_crossentropy')\n",
        "model.fit(x_train_noisy, x_train,\n",
        "                epochs=15,\n",
        "                batch_size=128,\n",
        "                validation_data=(x_test_noisy, x_test))"
      ],
      "metadata": {
        "id": "PeH_MCSIIu6S",
        "colab": {
          "base_uri": "https://localhost:8080/"
        },
        "outputId": "13556239-caef-4f4e-e9e1-44fb7902fa38"
      },
      "execution_count": 30,
      "outputs": [
        {
          "output_type": "stream",
          "name": "stdout",
          "text": [
            "Epoch 1/15\n",
            "469/469 [==============================] - 202s 431ms/step - loss: 0.1977 - val_loss: 0.1515\n",
            "Epoch 2/15\n",
            "469/469 [==============================] - 201s 429ms/step - loss: 0.1469 - val_loss: 0.1414\n",
            "Epoch 3/15\n",
            "469/469 [==============================] - 200s 426ms/step - loss: 0.1395 - val_loss: 0.1356\n",
            "Epoch 4/15\n",
            "469/469 [==============================] - 200s 426ms/step - loss: 0.1351 - val_loss: 0.1322\n",
            "Epoch 5/15\n",
            "469/469 [==============================] - 201s 428ms/step - loss: 0.1323 - val_loss: 0.1304\n",
            "Epoch 6/15\n",
            "469/469 [==============================] - 199s 424ms/step - loss: 0.1307 - val_loss: 0.1284\n",
            "Epoch 7/15\n",
            "469/469 [==============================] - 198s 422ms/step - loss: 0.1292 - val_loss: 0.1273\n",
            "Epoch 8/15\n",
            "469/469 [==============================] - 198s 422ms/step - loss: 0.1281 - val_loss: 0.1270\n",
            "Epoch 9/15\n",
            "469/469 [==============================] - 197s 419ms/step - loss: 0.1272 - val_loss: 0.1256\n",
            "Epoch 10/15\n",
            "469/469 [==============================] - 198s 423ms/step - loss: 0.1264 - val_loss: 0.1248\n",
            "Epoch 11/15\n",
            "469/469 [==============================] - 198s 422ms/step - loss: 0.1257 - val_loss: 0.1246\n",
            "Epoch 12/15\n",
            "469/469 [==============================] - 195s 417ms/step - loss: 0.1249 - val_loss: 0.1235\n",
            "Epoch 13/15\n",
            "469/469 [==============================] - 195s 416ms/step - loss: 0.1243 - val_loss: 0.1231\n",
            "Epoch 14/15\n",
            "469/469 [==============================] - 196s 418ms/step - loss: 0.1238 - val_loss: 0.1225\n",
            "Epoch 15/15\n",
            "469/469 [==============================] - 197s 419ms/step - loss: 0.1234 - val_loss: 0.1225\n",
            "Epoch 1/15\n",
            "469/469 [==============================] - 197s 419ms/step - loss: 0.1964 - val_loss: 0.1475\n",
            "Epoch 2/15\n",
            "469/469 [==============================] - 199s 425ms/step - loss: 0.1419 - val_loss: 0.1360\n",
            "Epoch 3/15\n",
            "469/469 [==============================] - 200s 426ms/step - loss: 0.1352 - val_loss: 0.1321\n",
            "Epoch 4/15\n",
            "469/469 [==============================] - 204s 435ms/step - loss: 0.1322 - val_loss: 0.1304\n",
            "Epoch 5/15\n",
            "469/469 [==============================] - 204s 434ms/step - loss: 0.1303 - val_loss: 0.1292\n",
            "Epoch 6/15\n",
            "469/469 [==============================] - 201s 429ms/step - loss: 0.1286 - val_loss: 0.1273\n",
            "Epoch 7/15\n",
            "469/469 [==============================] - 200s 426ms/step - loss: 0.1274 - val_loss: 0.1258\n",
            "Epoch 8/15\n",
            "469/469 [==============================] - 199s 425ms/step - loss: 0.1262 - val_loss: 0.1252\n",
            "Epoch 9/15\n",
            "469/469 [==============================] - 201s 429ms/step - loss: 0.1254 - val_loss: 0.1240\n",
            "Epoch 10/15\n",
            "469/469 [==============================] - 201s 428ms/step - loss: 0.1247 - val_loss: 0.1232\n",
            "Epoch 11/15\n",
            "469/469 [==============================] - 199s 424ms/step - loss: 0.1240 - val_loss: 0.1229\n",
            "Epoch 12/15\n",
            "469/469 [==============================] - 198s 422ms/step - loss: 0.1235 - val_loss: 0.1227\n",
            "Epoch 13/15\n",
            "469/469 [==============================] - 198s 421ms/step - loss: 0.1230 - val_loss: 0.1228\n",
            "Epoch 14/15\n",
            "469/469 [==============================] - 197s 421ms/step - loss: 0.1227 - val_loss: 0.1218\n",
            "Epoch 15/15\n",
            "469/469 [==============================] - 202s 430ms/step - loss: 0.1222 - val_loss: 0.1212\n"
          ]
        },
        {
          "output_type": "execute_result",
          "data": {
            "text/plain": [
              "<keras.callbacks.History at 0x7f531290f9d0>"
            ]
          },
          "metadata": {},
          "execution_count": 30
        }
      ]
    },
    {
      "cell_type": "code",
      "source": [
        "pred = model.predict(x_test_noisy)\n",
        "plt.figure(figsize=(20, 4))\n",
        "for i in range(5):\n",
        "    # Display original\n",
        "    ax = plt.subplot(2, 5, i + 1)\n",
        "    plt.imshow(x_test_noisy[i].reshape(28, 28))\n",
        "    plt.gray()\n",
        "    ax.get_xaxis().set_visible(False)\n",
        "    ax.get_yaxis().set_visible(False)\n",
        "    # Display reconstruction\n",
        "    ax = plt.subplot(2, 5, i + 1 + 5)\n",
        "    plt.imshow(pred[i].reshape(28, 28))\n",
        "    plt.gray()\n",
        "    ax.get_xaxis().set_visible(False)\n",
        "    ax.get_yaxis().set_visible(False)\n",
        "plt.show()"
      ],
      "metadata": {
        "id": "2d1VxdEeIxFy",
        "colab": {
          "base_uri": "https://localhost:8080/",
          "height": 269
        },
        "outputId": "f686bd00-e37d-45b2-dfef-f930d76a2f88"
      },
      "execution_count": 31,
      "outputs": [
        {
          "output_type": "stream",
          "name": "stdout",
          "text": [
            "313/313 [==============================] - 8s 26ms/step\n"
          ]
        },
        {
          "output_type": "display_data",
          "data": {
            "text/plain": [
              "<Figure size 1440x288 with 10 Axes>"
            ],
            "image/png": "[encoded data removed]"
          },
          "metadata": {
            "needs_background": "light"
          }
        }
      ]
    },
    {
      "cell_type": "code",
      "source": [],
      "metadata": {
        "id": "-FjiYYdjIzGS"
      },
      "execution_count": 31,
      "outputs": []
    }
  ]
}