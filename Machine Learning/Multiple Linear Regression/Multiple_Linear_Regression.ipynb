{
  "nbformat": 4,
  "nbformat_minor": 0,
  "metadata": {
    "colab": {
      "provenance": []
    },
    "kernelspec": {
      "name": "python3",
      "display_name": "Python 3"
    },
    "language_info": {
      "name": "python"
    }
  },
  "cells": [
    {
      "cell_type": "markdown",
      "source": [
        "### **Multiple Linear Regression**"
      ],
      "metadata": {
        "id": "Fnmss0Z5TKFM"
      }
    },
    {
      "cell_type": "code",
      "source": [
        "import pandas as pd\n",
        "import numpy as np"
      ],
      "metadata": {
        "id": "ArL3NR9PTIWq"
      },
      "execution_count": null,
      "outputs": []
    },
    {
      "cell_type": "code",
      "source": [
        "dataset = pd.read_csv('Psychology data.csv')\n",
        "\"\"\"\n",
        "The data (X1, X2, X3, X4) are for each student.\n",
        "X1 = score on exam #1\n",
        "X2 = score on exam #2\n",
        "X3 = score on exam #3\n",
        "X4 = score on final exam\n",
        "\"\"\"\n",
        "X = dataset.iloc[ : , :-1].values\n",
        "Y = dataset.iloc[ : ,  3 ].values"
      ],
      "metadata": {
        "id": "3BpixZLJUEFS"
      },
      "execution_count": null,
      "outputs": []
    },
    {
      "cell_type": "code",
      "source": [
        "from sklearn.preprocessing import LabelEncoder, OneHotEncoder\n",
        "labelencoder = LabelEncoder()\n",
        "#X[: , 3] = labelencoder.fit_transform(X[ : , 3])\n",
        "#onehotencoder = OneHotEncoder(categorical_features = [3])\n",
        "#X = onehotencoder.fit_transform(X).toarray()\n"
      ],
      "metadata": {
        "id": "_ICokwSXUrQF"
      },
      "execution_count": null,
      "outputs": []
    },
    {
      "cell_type": "code",
      "source": [
        "X = X[: , 1:]"
      ],
      "metadata": {
        "id": "9F6PSOYhUsZ0"
      },
      "execution_count": null,
      "outputs": []
    },
    {
      "cell_type": "code",
      "source": [
        "from sklearn.model_selection import train_test_split\n",
        "X_train, X_test, Y_train, Y_test = train_test_split(X, Y, test_size = 0.7, random_state = 0)"
      ],
      "metadata": {
        "id": "-XWhOSiBU69B"
      },
      "execution_count": null,
      "outputs": []
    },
    {
      "cell_type": "code",
      "source": [
        "from sklearn.linear_model import LinearRegression\n",
        "regressor = LinearRegression()\n",
        "regressor.fit(X_train, Y_train)"
      ],
      "metadata": {
        "colab": {
          "base_uri": "https://localhost:8080/"
        },
        "id": "Db6w9HBOVD_7",
        "outputId": "dde169ec-b130-44fd-d96d-27d7d54907e9"
      },
      "execution_count": null,
      "outputs": [
        {
          "output_type": "execute_result",
          "data": {
            "text/plain": [
              "LinearRegression()"
            ]
          },
          "metadata": {},
          "execution_count": 49
        }
      ]
    },
    {
      "cell_type": "code",
      "source": [
        "y_pred = regressor.predict(X_test)\n",
        "x_pred = regressor.predict(X_train)\n",
        "regressor.score(X_test,Y_test)\n"
      ],
      "metadata": {
        "id": "BfYMNxqXVI3r",
        "colab": {
          "base_uri": "https://localhost:8080/"
        },
        "outputId": "813dbcb6-8825-40a4-a940-11717011fd7f"
      },
      "execution_count": null,
      "outputs": [
        {
          "output_type": "execute_result",
          "data": {
            "text/plain": [
              "0.9646887926281713"
            ]
          },
          "metadata": {},
          "execution_count": 50
        }
      ]
    },
    {
      "cell_type": "code",
      "source": [
        "y_pred"
      ],
      "metadata": {
        "colab": {
          "base_uri": "https://localhost:8080/"
        },
        "id": "tJsWy5l2JBxH",
        "outputId": "745e0b1c-7eab-4018-bd9a-f02eb983fa15"
      },
      "execution_count": null,
      "outputs": [
        {
          "output_type": "execute_result",
          "data": {
            "text/plain": [
              "array([103.74346987, 179.98269289, 155.29299331, 137.17539467,\n",
              "       142.8705817 , 168.4371952 , 184.49547216, 189.03041195,\n",
              "       145.43484189, 152.77305415, 183.66287928, 143.30903866,\n",
              "       147.47200305, 174.98713562, 151.54632536, 173.82688839,\n",
              "       136.71477719, 167.9544172 ])"
            ]
          },
          "metadata": {},
          "execution_count": 51
        }
      ]
    },
    {
      "cell_type": "code",
      "source": [
        "(X.shape, Y_train.shape)"
      ],
      "metadata": {
        "colab": {
          "base_uri": "https://localhost:8080/"
        },
        "id": "TPlEFE64Esz3",
        "outputId": "22e189c9-e391-4850-c74d-9b0cb624c410"
      },
      "execution_count": null,
      "outputs": [
        {
          "output_type": "execute_result",
          "data": {
            "text/plain": [
              "((25, 2), (7,))"
            ]
          },
          "metadata": {},
          "execution_count": 52
        }
      ]
    },
    {
      "cell_type": "code",
      "source": [
        "from sklearn.metrics import mean_squared_error, r2_score\n",
        "meanSqrd = mean_squared_error(Y_test, y_pred)\n",
        "\n",
        "r_squared = r2_score(Y_test, y_pred)\n",
        "meanSqrd, r_squared"
      ],
      "metadata": {
        "id": "ojoP3K5sEuc3",
        "colab": {
          "base_uri": "https://localhost:8080/"
        },
        "outputId": "80faac03-864e-444f-a837-392a0550d57b"
      },
      "execution_count": null,
      "outputs": [
        {
          "output_type": "execute_result",
          "data": {
            "text/plain": [
              "(16.59190805644196, 0.9646887926281713)"
            ]
          },
          "metadata": {},
          "execution_count": 53
        }
      ]
    },
    {
      "cell_type": "code",
      "source": [
        "import seaborn as sc\n",
        "sc.pairplot(dataset)"
      ],
      "metadata": {
        "colab": {
          "base_uri": "https://localhost:8080/",
          "height": 743
        },
        "id": "0nocXChl5h7t",
        "outputId": "d3abbf05-a19e-4ac0-ce6b-ea2e86c4fb65"
      },
      "execution_count": null,
      "outputs": [
        {
          "output_type": "execute_result",
          "data": {
            "text/plain": [
              "<seaborn.axisgrid.PairGrid at 0x7f9a368e4390>"
            ]
          },
          "metadata": {},
          "execution_count": 54
        },
        {
          "output_type": "display_data",
          "data": {
            "text/plain": [
              "<Figure size 720x720 with 20 Axes>"
            ],
            "image/png": "[encoded data removed]"
          },
          "metadata": {
            "needs_background": "light"
          }
        }
      ]
    }
  ]
}